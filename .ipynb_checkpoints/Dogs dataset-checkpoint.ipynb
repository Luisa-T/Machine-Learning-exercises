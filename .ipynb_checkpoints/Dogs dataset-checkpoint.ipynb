{
 "cells": [
  {
   "cell_type": "markdown",
   "metadata": {},
   "source": [
    "# The dog datset"
   ]
  },
  {
   "cell_type": "code",
   "execution_count": 1,
   "metadata": {},
   "outputs": [
    {
     "name": "stderr",
     "output_type": "stream",
     "text": [
      "C:\\Users\\luisa\\Anaconda3\\lib\\site-packages\\h5py\\__init__.py:36: FutureWarning: Conversion of the second argument of issubdtype from `float` to `np.floating` is deprecated. In future, it will be treated as `np.float64 == np.dtype(float).type`.\n",
      "  from ._conv import register_converters as _register_converters\n",
      "Using TensorFlow backend.\n",
      "C:\\Users\\luisa\\Anaconda3\\lib\\site-packages\\tensorflow\\python\\framework\\dtypes.py:526: FutureWarning: Passing (type, 1) or '1type' as a synonym of type is deprecated; in a future version of numpy, it will be understood as (type, (1,)) / '(1,)type'.\n",
      "  _np_qint8 = np.dtype([(\"qint8\", np.int8, 1)])\n",
      "C:\\Users\\luisa\\Anaconda3\\lib\\site-packages\\tensorflow\\python\\framework\\dtypes.py:527: FutureWarning: Passing (type, 1) or '1type' as a synonym of type is deprecated; in a future version of numpy, it will be understood as (type, (1,)) / '(1,)type'.\n",
      "  _np_quint8 = np.dtype([(\"quint8\", np.uint8, 1)])\n",
      "C:\\Users\\luisa\\Anaconda3\\lib\\site-packages\\tensorflow\\python\\framework\\dtypes.py:528: FutureWarning: Passing (type, 1) or '1type' as a synonym of type is deprecated; in a future version of numpy, it will be understood as (type, (1,)) / '(1,)type'.\n",
      "  _np_qint16 = np.dtype([(\"qint16\", np.int16, 1)])\n",
      "C:\\Users\\luisa\\Anaconda3\\lib\\site-packages\\tensorflow\\python\\framework\\dtypes.py:529: FutureWarning: Passing (type, 1) or '1type' as a synonym of type is deprecated; in a future version of numpy, it will be understood as (type, (1,)) / '(1,)type'.\n",
      "  _np_quint16 = np.dtype([(\"quint16\", np.uint16, 1)])\n",
      "C:\\Users\\luisa\\Anaconda3\\lib\\site-packages\\tensorflow\\python\\framework\\dtypes.py:530: FutureWarning: Passing (type, 1) or '1type' as a synonym of type is deprecated; in a future version of numpy, it will be understood as (type, (1,)) / '(1,)type'.\n",
      "  _np_qint32 = np.dtype([(\"qint32\", np.int32, 1)])\n",
      "C:\\Users\\luisa\\Anaconda3\\lib\\site-packages\\tensorflow\\python\\framework\\dtypes.py:535: FutureWarning: Passing (type, 1) or '1type' as a synonym of type is deprecated; in a future version of numpy, it will be understood as (type, (1,)) / '(1,)type'.\n",
      "  np_resource = np.dtype([(\"resource\", np.ubyte, 1)])\n"
     ]
    }
   ],
   "source": [
    "import keras as kr\n",
    "import pandas as pd\n",
    "import numpy as np\n",
    "# to preprocess the data\n",
    "import sklearn.preprocessing as pre\n",
    "# to split the dataset\n",
    "import sklearn.model_selection as mod\n",
    "# for whitening\n",
    "import sklearn.decomposition as dec"
   ]
  },
  {
   "cell_type": "markdown",
   "metadata": {},
   "source": [
    "## Preprocessing the dataset"
   ]
  },
  {
   "cell_type": "code",
   "execution_count": 2,
   "metadata": {},
   "outputs": [
    {
     "data": {
      "text/html": [
       "<div>\n",
       "<style scoped>\n",
       "    .dataframe tbody tr th:only-of-type {\n",
       "        vertical-align: middle;\n",
       "    }\n",
       "\n",
       "    .dataframe tbody tr th {\n",
       "        vertical-align: top;\n",
       "    }\n",
       "\n",
       "    .dataframe thead th {\n",
       "        text-align: right;\n",
       "    }\n",
       "</style>\n",
       "<table border=\"1\" class=\"dataframe\">\n",
       "  <thead>\n",
       "    <tr style=\"text-align: right;\">\n",
       "      <th></th>\n",
       "      <th>pure</th>\n",
       "      <th>age</th>\n",
       "      <th>weight</th>\n",
       "      <th>height</th>\n",
       "      <th>lifespan</th>\n",
       "    </tr>\n",
       "  </thead>\n",
       "  <tbody>\n",
       "    <tr>\n",
       "      <th>0</th>\n",
       "      <td>True</td>\n",
       "      <td>3</td>\n",
       "      <td>7.94</td>\n",
       "      <td>49.6</td>\n",
       "      <td>15</td>\n",
       "    </tr>\n",
       "    <tr>\n",
       "      <th>1</th>\n",
       "      <td>True</td>\n",
       "      <td>7</td>\n",
       "      <td>5.05</td>\n",
       "      <td>63.5</td>\n",
       "      <td>17</td>\n",
       "    </tr>\n",
       "    <tr>\n",
       "      <th>2</th>\n",
       "      <td>True</td>\n",
       "      <td>6</td>\n",
       "      <td>16.15</td>\n",
       "      <td>68.2</td>\n",
       "      <td>11</td>\n",
       "    </tr>\n",
       "    <tr>\n",
       "      <th>3</th>\n",
       "      <td>False</td>\n",
       "      <td>3</td>\n",
       "      <td>15.50</td>\n",
       "      <td>64.7</td>\n",
       "      <td>12</td>\n",
       "    </tr>\n",
       "    <tr>\n",
       "      <th>4</th>\n",
       "      <td>False</td>\n",
       "      <td>3</td>\n",
       "      <td>12.17</td>\n",
       "      <td>59.7</td>\n",
       "      <td>14</td>\n",
       "    </tr>\n",
       "    <tr>\n",
       "      <th>...</th>\n",
       "      <td>...</td>\n",
       "      <td>...</td>\n",
       "      <td>...</td>\n",
       "      <td>...</td>\n",
       "      <td>...</td>\n",
       "    </tr>\n",
       "    <tr>\n",
       "      <th>95</th>\n",
       "      <td>False</td>\n",
       "      <td>4</td>\n",
       "      <td>20.76</td>\n",
       "      <td>52.2</td>\n",
       "      <td>10</td>\n",
       "    </tr>\n",
       "    <tr>\n",
       "      <th>96</th>\n",
       "      <td>False</td>\n",
       "      <td>4</td>\n",
       "      <td>17.40</td>\n",
       "      <td>47.5</td>\n",
       "      <td>11</td>\n",
       "    </tr>\n",
       "    <tr>\n",
       "      <th>97</th>\n",
       "      <td>False</td>\n",
       "      <td>6</td>\n",
       "      <td>15.60</td>\n",
       "      <td>51.4</td>\n",
       "      <td>12</td>\n",
       "    </tr>\n",
       "    <tr>\n",
       "      <th>98</th>\n",
       "      <td>False</td>\n",
       "      <td>3</td>\n",
       "      <td>8.37</td>\n",
       "      <td>54.1</td>\n",
       "      <td>16</td>\n",
       "    </tr>\n",
       "    <tr>\n",
       "      <th>99</th>\n",
       "      <td>True</td>\n",
       "      <td>7</td>\n",
       "      <td>9.09</td>\n",
       "      <td>50.3</td>\n",
       "      <td>14</td>\n",
       "    </tr>\n",
       "  </tbody>\n",
       "</table>\n",
       "<p>100 rows × 5 columns</p>\n",
       "</div>"
      ],
      "text/plain": [
       "     pure  age  weight  height  lifespan\n",
       "0    True    3    7.94    49.6        15\n",
       "1    True    7    5.05    63.5        17\n",
       "2    True    6   16.15    68.2        11\n",
       "3   False    3   15.50    64.7        12\n",
       "4   False    3   12.17    59.7        14\n",
       "..    ...  ...     ...     ...       ...\n",
       "95  False    4   20.76    52.2        10\n",
       "96  False    4   17.40    47.5        11\n",
       "97  False    6   15.60    51.4        12\n",
       "98  False    3    8.37    54.1        16\n",
       "99   True    7    9.09    50.3        14\n",
       "\n",
       "[100 rows x 5 columns]"
      ]
     },
     "execution_count": 2,
     "metadata": {},
     "output_type": "execute_result"
    }
   ],
   "source": [
    "df = pd.read_csv(\"datasets-master\\datasets-master\\dogs.csv\")\n",
    "df"
   ]
  },
  {
   "cell_type": "code",
   "execution_count": 3,
   "metadata": {},
   "outputs": [],
   "source": [
    "pureenc = pre.LabelBinarizer()\n",
    "pureenc.fit(df['pure'])\n",
    "df['pureenc'] = pureenc.transform(df['pure'])"
   ]
  },
  {
   "cell_type": "code",
   "execution_count": 4,
   "metadata": {},
   "outputs": [],
   "source": [
    "x = df[['pureenc', 'age', 'weight', 'height']]\n",
    "y = df['lifespan']"
   ]
  },
  {
   "cell_type": "code",
   "execution_count": 5,
   "metadata": {},
   "outputs": [
    {
     "data": {
      "text/html": [
       "<div>\n",
       "<style scoped>\n",
       "    .dataframe tbody tr th:only-of-type {\n",
       "        vertical-align: middle;\n",
       "    }\n",
       "\n",
       "    .dataframe tbody tr th {\n",
       "        vertical-align: top;\n",
       "    }\n",
       "\n",
       "    .dataframe thead th {\n",
       "        text-align: right;\n",
       "    }\n",
       "</style>\n",
       "<table border=\"1\" class=\"dataframe\">\n",
       "  <thead>\n",
       "    <tr style=\"text-align: right;\">\n",
       "      <th></th>\n",
       "      <th>pureenc</th>\n",
       "      <th>age</th>\n",
       "      <th>weight</th>\n",
       "      <th>height</th>\n",
       "    </tr>\n",
       "  </thead>\n",
       "  <tbody>\n",
       "    <tr>\n",
       "      <th>0</th>\n",
       "      <td>1</td>\n",
       "      <td>3</td>\n",
       "      <td>7.94</td>\n",
       "      <td>49.6</td>\n",
       "    </tr>\n",
       "    <tr>\n",
       "      <th>1</th>\n",
       "      <td>1</td>\n",
       "      <td>7</td>\n",
       "      <td>5.05</td>\n",
       "      <td>63.5</td>\n",
       "    </tr>\n",
       "    <tr>\n",
       "      <th>2</th>\n",
       "      <td>1</td>\n",
       "      <td>6</td>\n",
       "      <td>16.15</td>\n",
       "      <td>68.2</td>\n",
       "    </tr>\n",
       "    <tr>\n",
       "      <th>3</th>\n",
       "      <td>0</td>\n",
       "      <td>3</td>\n",
       "      <td>15.50</td>\n",
       "      <td>64.7</td>\n",
       "    </tr>\n",
       "    <tr>\n",
       "      <th>4</th>\n",
       "      <td>0</td>\n",
       "      <td>3</td>\n",
       "      <td>12.17</td>\n",
       "      <td>59.7</td>\n",
       "    </tr>\n",
       "    <tr>\n",
       "      <th>...</th>\n",
       "      <td>...</td>\n",
       "      <td>...</td>\n",
       "      <td>...</td>\n",
       "      <td>...</td>\n",
       "    </tr>\n",
       "    <tr>\n",
       "      <th>95</th>\n",
       "      <td>0</td>\n",
       "      <td>4</td>\n",
       "      <td>20.76</td>\n",
       "      <td>52.2</td>\n",
       "    </tr>\n",
       "    <tr>\n",
       "      <th>96</th>\n",
       "      <td>0</td>\n",
       "      <td>4</td>\n",
       "      <td>17.40</td>\n",
       "      <td>47.5</td>\n",
       "    </tr>\n",
       "    <tr>\n",
       "      <th>97</th>\n",
       "      <td>0</td>\n",
       "      <td>6</td>\n",
       "      <td>15.60</td>\n",
       "      <td>51.4</td>\n",
       "    </tr>\n",
       "    <tr>\n",
       "      <th>98</th>\n",
       "      <td>0</td>\n",
       "      <td>3</td>\n",
       "      <td>8.37</td>\n",
       "      <td>54.1</td>\n",
       "    </tr>\n",
       "    <tr>\n",
       "      <th>99</th>\n",
       "      <td>1</td>\n",
       "      <td>7</td>\n",
       "      <td>9.09</td>\n",
       "      <td>50.3</td>\n",
       "    </tr>\n",
       "  </tbody>\n",
       "</table>\n",
       "<p>100 rows × 4 columns</p>\n",
       "</div>"
      ],
      "text/plain": [
       "    pureenc  age  weight  height\n",
       "0         1    3    7.94    49.6\n",
       "1         1    7    5.05    63.5\n",
       "2         1    6   16.15    68.2\n",
       "3         0    3   15.50    64.7\n",
       "4         0    3   12.17    59.7\n",
       "..      ...  ...     ...     ...\n",
       "95        0    4   20.76    52.2\n",
       "96        0    4   17.40    47.5\n",
       "97        0    6   15.60    51.4\n",
       "98        0    3    8.37    54.1\n",
       "99        1    7    9.09    50.3\n",
       "\n",
       "[100 rows x 4 columns]"
      ]
     },
     "execution_count": 5,
     "metadata": {},
     "output_type": "execute_result"
    }
   ],
   "source": [
    "x"
   ]
  },
  {
   "cell_type": "code",
   "execution_count": 6,
   "metadata": {},
   "outputs": [
    {
     "data": {
      "text/plain": [
       "0     15\n",
       "1     17\n",
       "2     11\n",
       "3     12\n",
       "4     14\n",
       "      ..\n",
       "95    10\n",
       "96    11\n",
       "97    12\n",
       "98    16\n",
       "99    14\n",
       "Name: lifespan, Length: 100, dtype: int64"
      ]
     },
     "execution_count": 6,
     "metadata": {},
     "output_type": "execute_result"
    }
   ],
   "source": [
    "y"
   ]
  },
  {
   "cell_type": "code",
   "execution_count": 7,
   "metadata": {},
   "outputs": [],
   "source": [
    "x_train, x_test, y_train, y_test = mod.train_test_split(x, y, test_size=0.3)"
   ]
  },
  {
   "cell_type": "markdown",
   "metadata": {},
   "source": [
    "## Building the neural network and training it"
   ]
  },
  {
   "cell_type": "code",
   "execution_count": 8,
   "metadata": {},
   "outputs": [
    {
     "name": "stdout",
     "output_type": "stream",
     "text": [
      "WARNING:tensorflow:From C:\\Users\\luisa\\Anaconda3\\lib\\site-packages\\tensorflow\\python\\framework\\op_def_library.py:263: colocate_with (from tensorflow.python.framework.ops) is deprecated and will be removed in a future version.\n",
      "Instructions for updating:\n",
      "Colocations handled automatically by placer.\n"
     ]
    }
   ],
   "source": [
    "m = kr.models.Sequential()\n",
    "\n",
    "m.add(kr.layers.Dense(20, input_dim = 4, activation = \"relu\"))\n",
    "m.add(kr.layers.Dense(1, activation = \"linear\"))\n",
    "\n",
    "m.compile(loss=\"mean_squared_error\", optimizer=\"adam\")"
   ]
  },
  {
   "cell_type": "code",
   "execution_count": 9,
   "metadata": {},
   "outputs": [
    {
     "name": "stdout",
     "output_type": "stream",
     "text": [
      "WARNING:tensorflow:From C:\\Users\\luisa\\Anaconda3\\lib\\site-packages\\tensorflow\\python\\ops\\math_ops.py:3066: to_int32 (from tensorflow.python.ops.math_ops) is deprecated and will be removed in a future version.\n",
      "Instructions for updating:\n",
      "Use tf.cast instead.\n",
      "Epoch 1/100\n",
      "70/70 [==============================] - 4s 53ms/step - loss: 82.0064\n",
      "Epoch 2/100\n",
      "70/70 [==============================] - 0s 472us/step - loss: 45.2828\n",
      "Epoch 3/100\n",
      "70/70 [==============================] - 0s 1ms/step - loss: 25.5377\n",
      "Epoch 4/100\n",
      "70/70 [==============================] - 0s 779us/step - loss: 17.2547\n",
      "Epoch 5/100\n",
      "70/70 [==============================] - ETA: 0s - loss: 24.77 - 0s 514us/step - loss: 17.6281\n",
      "Epoch 6/100\n",
      "70/70 [==============================] - 0s 572us/step - loss: 17.9831\n",
      "Epoch 7/100\n",
      "70/70 [==============================] - 0s 729us/step - loss: 17.3421\n",
      "Epoch 8/100\n",
      "70/70 [==============================] - 0s 2ms/step - loss: 16.3661\n",
      "Epoch 9/100\n",
      "70/70 [==============================] - 0s 429us/step - loss: 15.9000\n",
      "Epoch 10/100\n",
      "70/70 [==============================] - 0s 414us/step - loss: 15.3459\n",
      "Epoch 11/100\n",
      "70/70 [==============================] - 0s 414us/step - loss: 14.9642\n",
      "Epoch 12/100\n",
      "70/70 [==============================] - 0s 629us/step - loss: 14.6154\n",
      "Epoch 13/100\n",
      "70/70 [==============================] - 0s 2ms/step - loss: 14.2671\n",
      "Epoch 14/100\n",
      "70/70 [==============================] - 0s 372us/step - loss: 13.9808\n",
      "Epoch 15/100\n",
      "70/70 [==============================] - 0s 1ms/step - loss: 13.6133\n",
      "Epoch 16/100\n",
      "70/70 [==============================] - 0s 414us/step - loss: 13.3789\n",
      "Epoch 17/100\n",
      "70/70 [==============================] - 0s 471us/step - loss: 13.0460\n",
      "Epoch 18/100\n",
      "70/70 [==============================] - 0s 1ms/step - loss: 12.8112\n",
      "Epoch 19/100\n",
      "70/70 [==============================] - 0s 343us/step - loss: 12.6249\n",
      "Epoch 20/100\n",
      "70/70 [==============================] - 0s 1ms/step - loss: 12.4653\n",
      "Epoch 21/100\n",
      "70/70 [==============================] - 0s 329us/step - loss: 12.1755\n",
      "Epoch 22/100\n",
      "70/70 [==============================] - 0s 386us/step - loss: 11.9894\n",
      "Epoch 23/100\n",
      "70/70 [==============================] - 0s 1ms/step - loss: 11.8342\n",
      "Epoch 24/100\n",
      "70/70 [==============================] - 0s 357us/step - loss: 11.6751\n",
      "Epoch 25/100\n",
      "70/70 [==============================] - 0s 643us/step - loss: 11.4715\n",
      "Epoch 26/100\n",
      "70/70 [==============================] - 0s 429us/step - loss: 11.3630\n",
      "Epoch 27/100\n",
      "70/70 [==============================] - 0s 429us/step - loss: 11.2749\n",
      "Epoch 28/100\n",
      "70/70 [==============================] - 0s 1ms/step - loss: 11.0737\n",
      "Epoch 29/100\n",
      "70/70 [==============================] - 0s 371us/step - loss: 10.9465\n",
      "Epoch 30/100\n",
      "70/70 [==============================] - 0s 1ms/step - loss: 10.8704\n",
      "Epoch 31/100\n",
      "70/70 [==============================] - 0s 443us/step - loss: 10.7946\n",
      "Epoch 32/100\n",
      "70/70 [==============================] - 0s 400us/step - loss: 10.6247\n",
      "Epoch 33/100\n",
      "70/70 [==============================] - 0s 1ms/step - loss: 10.4634\n",
      "Epoch 34/100\n",
      "70/70 [==============================] - 0s 429us/step - loss: 10.3927\n",
      "Epoch 35/100\n",
      "70/70 [==============================] - 0s 1ms/step - loss: 10.4641\n",
      "Epoch 36/100\n",
      "70/70 [==============================] - 0s 315us/step - loss: 10.2287\n",
      "Epoch 37/100\n",
      "70/70 [==============================] - 0s 314us/step - loss: 10.2088\n",
      "Epoch 38/100\n",
      "70/70 [==============================] - 0s 386us/step - loss: 10.0212\n",
      "Epoch 39/100\n",
      "70/70 [==============================] - 0s 386us/step - loss: 9.9137\n",
      "Epoch 40/100\n",
      "70/70 [==============================] - 0s 1ms/step - loss: 9.9277\n",
      "Epoch 41/100\n",
      "70/70 [==============================] - 0s 472us/step - loss: 9.8176\n",
      "Epoch 42/100\n",
      "70/70 [==============================] - 0s 472us/step - loss: 9.7142\n",
      "Epoch 43/100\n",
      "70/70 [==============================] - 0s 443us/step - loss: 9.6741\n",
      "Epoch 44/100\n",
      "70/70 [==============================] - 0s 414us/step - loss: 9.5918\n",
      "Epoch 45/100\n",
      "70/70 [==============================] - 0s 1ms/step - loss: 9.5394\n",
      "Epoch 46/100\n",
      "70/70 [==============================] - ETA: 0s - loss: 5.887 - 0s 357us/step - loss: 9.4834\n",
      "Epoch 47/100\n",
      "70/70 [==============================] - 0s 1ms/step - loss: 9.3869\n",
      "Epoch 48/100\n",
      "70/70 [==============================] - 0s 429us/step - loss: 9.3763\n",
      "Epoch 49/100\n",
      "70/70 [==============================] - 0s 329us/step - loss: 9.2878\n",
      "Epoch 50/100\n",
      "70/70 [==============================] - 0s 1ms/step - loss: 9.2444\n",
      "Epoch 51/100\n",
      "70/70 [==============================] - 0s 615us/step - loss: 9.2081\n",
      "Epoch 52/100\n",
      "70/70 [==============================] - 0s 1ms/step - loss: 9.1283\n",
      "Epoch 53/100\n",
      "70/70 [==============================] - 0s 372us/step - loss: 9.0909\n",
      "Epoch 54/100\n",
      "70/70 [==============================] - 0s 1ms/step - loss: 9.0393\n",
      "Epoch 55/100\n",
      "70/70 [==============================] - 0s 343us/step - loss: 9.0013\n",
      "Epoch 56/100\n",
      "70/70 [==============================] - 0s 357us/step - loss: 8.9651\n",
      "Epoch 57/100\n",
      "70/70 [==============================] - 0s 900us/step - loss: 8.9211\n",
      "Epoch 58/100\n",
      "70/70 [==============================] - 0s 400us/step - loss: 8.8698\n",
      "Epoch 59/100\n",
      "70/70 [==============================] - 0s 700us/step - loss: 8.8807\n",
      "Epoch 60/100\n",
      "70/70 [==============================] - 0s 343us/step - loss: 8.8215\n",
      "Epoch 61/100\n",
      "70/70 [==============================] - 0s 414us/step - loss: 8.8622\n",
      "Epoch 62/100\n",
      "70/70 [==============================] - 0s 714us/step - loss: 8.7218\n",
      "Epoch 63/100\n",
      "70/70 [==============================] - 0s 472us/step - loss: 8.6770\n",
      "Epoch 64/100\n",
      "70/70 [==============================] - 0s 700us/step - loss: 8.6548\n",
      "Epoch 65/100\n",
      "70/70 [==============================] - 0s 543us/step - loss: 8.6373\n",
      "Epoch 66/100\n",
      "70/70 [==============================] - ETA: 0s - loss: 10.22 - 0s 529us/step - loss: 8.5749\n",
      "Epoch 67/100\n",
      "70/70 [==============================] - 0s 1ms/step - loss: 8.6287\n",
      "Epoch 68/100\n",
      "70/70 [==============================] - 0s 300us/step - loss: 8.5316\n",
      "Epoch 69/100\n",
      "70/70 [==============================] - 0s 1ms/step - loss: 8.5101\n",
      "Epoch 70/100\n",
      "70/70 [==============================] - 0s 343us/step - loss: 8.4823\n",
      "Epoch 71/100\n",
      "70/70 [==============================] - 0s 1ms/step - loss: 8.4494\n",
      "Epoch 72/100\n",
      "70/70 [==============================] - 0s 372us/step - loss: 8.3967\n",
      "Epoch 73/100\n",
      "70/70 [==============================] - 0s 372us/step - loss: 8.3956\n",
      "Epoch 74/100\n",
      "70/70 [==============================] - 0s 1ms/step - loss: 8.3367\n",
      "Epoch 75/100\n",
      "70/70 [==============================] - 0s 307us/step - loss: 8.3436\n",
      "Epoch 76/100\n",
      "70/70 [==============================] - 0s 822us/step - loss: 8.2785\n",
      "Epoch 77/100\n",
      "70/70 [==============================] - 0s 558us/step - loss: 8.2691\n",
      "Epoch 78/100\n",
      "70/70 [==============================] - 0s 431us/step - loss: 8.2558\n",
      "Epoch 79/100\n",
      "70/70 [==============================] - 0s 560us/step - loss: 8.2562\n",
      "Epoch 80/100\n",
      "70/70 [==============================] - 0s 300us/step - loss: 8.2089\n",
      "Epoch 81/100\n",
      "70/70 [==============================] - 0s 300us/step - loss: 8.1745\n",
      "Epoch 82/100\n",
      "70/70 [==============================] - 0s 314us/step - loss: 8.1273\n",
      "Epoch 83/100\n",
      "70/70 [==============================] - 0s 414us/step - loss: 8.1148\n",
      "Epoch 84/100\n",
      "70/70 [==============================] - 0s 1ms/step - loss: 8.0911\n",
      "Epoch 85/100\n",
      "70/70 [==============================] - 0s 414us/step - loss: 8.1536\n",
      "Epoch 86/100\n",
      "70/70 [==============================] - 0s 357us/step - loss: 8.0848\n",
      "Epoch 87/100\n",
      "70/70 [==============================] - 0s 686us/step - loss: 8.0159\n",
      "Epoch 88/100\n",
      "70/70 [==============================] - 0s 343us/step - loss: 8.1449\n",
      "Epoch 89/100\n",
      "70/70 [==============================] - 0s 1ms/step - loss: 8.0223\n",
      "Epoch 90/100\n",
      "70/70 [==============================] - 0s 418us/step - loss: 7.9652\n",
      "Epoch 91/100\n",
      "70/70 [==============================] - 0s 329us/step - loss: 7.9648\n",
      "Epoch 92/100\n",
      "70/70 [==============================] - 0s 1ms/step - loss: 7.9358\n",
      "Epoch 93/100\n",
      "70/70 [==============================] - 0s 472us/step - loss: 7.9495\n",
      "Epoch 94/100\n",
      "70/70 [==============================] - 0s 400us/step - loss: 7.8839\n",
      "Epoch 95/100\n",
      "70/70 [==============================] - 0s 329us/step - loss: 7.8549\n"
     ]
    },
    {
     "name": "stdout",
     "output_type": "stream",
     "text": [
      "Epoch 96/100\n",
      "70/70 [==============================] - 0s 386us/step - loss: 7.8643\n",
      "Epoch 97/100\n",
      "70/70 [==============================] - 0s 814us/step - loss: 7.8032\n",
      "Epoch 98/100\n",
      "70/70 [==============================] - ETA: 0s - loss: 2.618 - 0s 443us/step - loss: 7.8432\n",
      "Epoch 99/100\n",
      "70/70 [==============================] - 0s 472us/step - loss: 7.7928\n",
      "Epoch 100/100\n",
      "70/70 [==============================] - 0s 2ms/step - loss: 7.8016\n"
     ]
    },
    {
     "data": {
      "text/plain": [
       "<keras.callbacks.History at 0x1c994d61eb8>"
      ]
     },
     "execution_count": 9,
     "metadata": {},
     "output_type": "execute_result"
    }
   ],
   "source": [
    "m.fit(x_train, y_train, epochs=100, batch_size=10)"
   ]
  },
  {
   "cell_type": "code",
   "execution_count": 10,
   "metadata": {},
   "outputs": [
    {
     "data": {
      "text/plain": [
       "array([[14., 14., 14., 12., 13.,  9., 17., 15.,  8., 13.,  8., 16., 10.,\n",
       "         8., 13.,  9., 15.,  8.,  9., 12., 11., 12., 12., 14., 11., 16.,\n",
       "        14.,  8., 18.,  9.]], dtype=float32)"
      ]
     },
     "execution_count": 10,
     "metadata": {},
     "output_type": "execute_result"
    }
   ],
   "source": [
    "m.predict(x_test).round().T"
   ]
  },
  {
   "cell_type": "code",
   "execution_count": 11,
   "metadata": {},
   "outputs": [
    {
     "name": "stderr",
     "output_type": "stream",
     "text": [
      "C:\\Users\\luisa\\Anaconda3\\lib\\site-packages\\ipykernel_launcher.py:1: FutureWarning: Method .as_matrix will be removed in a future version. Use .values instead.\n",
      "  \"\"\"Entry point for launching an IPython kernel.\n"
     ]
    },
    {
     "data": {
      "text/plain": [
       "array([15., 11., 14., 13., 12., 15., 11., 14., 10., 10., 11., 13., 11.,\n",
       "       13., 15., 11., 16., 12., 10., 12., 12., 14., 15., 12., 16., 12.,\n",
       "       14., 12., 13., 11.], dtype=float32)"
      ]
     },
     "execution_count": 11,
     "metadata": {},
     "output_type": "execute_result"
    }
   ],
   "source": [
    "y_test.as_matrix().astype(np.float32)"
   ]
  },
  {
   "cell_type": "code",
   "execution_count": 13,
   "metadata": {},
   "outputs": [
    {
     "ename": "SyntaxError",
     "evalue": "invalid syntax (<ipython-input-13-a79811483605>, line 1)",
     "output_type": "error",
     "traceback": [
      "\u001b[1;36m  File \u001b[1;32m\"<ipython-input-13-a79811483605>\"\u001b[1;36m, line \u001b[1;32m1\u001b[0m\n\u001b[1;33m    m.evaluate(x_test y_test)\u001b[0m\n\u001b[1;37m                           ^\u001b[0m\n\u001b[1;31mSyntaxError\u001b[0m\u001b[1;31m:\u001b[0m invalid syntax\n"
     ]
    }
   ],
   "source": [
    "m.evaluate(x_test y_test)"
   ]
  },
  {
   "cell_type": "markdown",
   "metadata": {},
   "source": [
    "## Scaling the dataset"
   ]
  },
  {
   "cell_type": "code",
   "execution_count": 15,
   "metadata": {},
   "outputs": [],
   "source": [
    "scaler = pre.StandardScaler()\n",
    "scaler.fit(x_train)\n",
    "x_train_scaled = scaler.transform(x_train)"
   ]
  },
  {
   "cell_type": "code",
   "execution_count": 17,
   "metadata": {},
   "outputs": [],
   "source": [
    "m = kr.models.Sequential()\n",
    "\n",
    "m.add(kr.layers.Dense(20, input_dim = 4, activation = \"relu\"))\n",
    "m.add(kr.layers.Dense(1, activation=\"linear\"))\n",
    "\n",
    "m.compile(loss=\"mean_squared_error\", optimizer=\"adam\")"
   ]
  },
  {
   "cell_type": "code",
   "execution_count": 18,
   "metadata": {},
   "outputs": [
    {
     "name": "stdout",
     "output_type": "stream",
     "text": [
      "Epoch 1/100\n",
      "70/70 [==============================] - 1s 15ms/step - loss: 350.7678\n",
      "Epoch 2/100\n",
      "70/70 [==============================] - 0s 457us/step - loss: 251.9586\n",
      "Epoch 3/100\n",
      "70/70 [==============================] - 0s 400us/step - loss: 169.7797\n",
      "Epoch 4/100\n",
      "70/70 [==============================] - 0s 3ms/step - loss: 109.4104\n",
      "Epoch 5/100\n",
      "70/70 [==============================] - 0s 357us/step - loss: 68.6435\n",
      "Epoch 6/100\n",
      "70/70 [==============================] - 0s 614us/step - loss: 43.0501\n",
      "Epoch 7/100\n",
      "70/70 [==============================] - 0s 400us/step - loss: 27.1976\n",
      "Epoch 8/100\n",
      "70/70 [==============================] - 0s 643us/step - loss: 20.1067\n",
      "Epoch 9/100\n",
      "70/70 [==============================] - 0s 614us/step - loss: 16.3260\n",
      "Epoch 10/100\n",
      "70/70 [==============================] - 0s 1ms/step - loss: 15.3048\n",
      "Epoch 11/100\n",
      "70/70 [==============================] - 0s 386us/step - loss: 15.0503\n",
      "Epoch 12/100\n",
      "70/70 [==============================] - 0s 543us/step - loss: 14.9671\n",
      "Epoch 13/100\n",
      "70/70 [==============================] - 0s 929us/step - loss: 14.9516\n",
      "Epoch 14/100\n",
      "70/70 [==============================] - 0s 343us/step - loss: 14.8799\n",
      "Epoch 15/100\n",
      "70/70 [==============================] - 0s 1ms/step - loss: 14.8080\n",
      "Epoch 16/100\n",
      "70/70 [==============================] - 0s 472us/step - loss: 14.7302\n",
      "Epoch 17/100\n",
      "70/70 [==============================] - 0s 1ms/step - loss: 14.6655\n",
      "Epoch 18/100\n",
      "70/70 [==============================] - 0s 400us/step - loss: 14.5838\n",
      "Epoch 19/100\n",
      "70/70 [==============================] - 0s 1ms/step - loss: 14.5130\n",
      "Epoch 20/100\n",
      "70/70 [==============================] - 0s 414us/step - loss: 14.4340\n",
      "Epoch 21/100\n",
      "70/70 [==============================] - 0s 1ms/step - loss: 14.3911\n",
      "Epoch 22/100\n",
      "70/70 [==============================] - 0s 443us/step - loss: 14.3210\n",
      "Epoch 23/100\n",
      "70/70 [==============================] - 0s 757us/step - loss: 14.2576\n",
      "Epoch 24/100\n",
      "70/70 [==============================] - 0s 457us/step - loss: 14.1733\n",
      "Epoch 25/100\n",
      "70/70 [==============================] - 0s 514us/step - loss: 14.1105\n",
      "Epoch 26/100\n",
      "70/70 [==============================] - 0s 457us/step - loss: 14.0718\n",
      "Epoch 27/100\n",
      "70/70 [==============================] - 0s 1ms/step - loss: 14.0085\n",
      "Epoch 28/100\n",
      "70/70 [==============================] - 0s 457us/step - loss: 13.9115\n",
      "Epoch 29/100\n",
      "70/70 [==============================] - 0s 657us/step - loss: 13.8368\n",
      "Epoch 30/100\n",
      "70/70 [==============================] - 0s 472us/step - loss: 13.7785\n",
      "Epoch 31/100\n",
      "70/70 [==============================] - 0s 343us/step - loss: 13.7010\n",
      "Epoch 32/100\n",
      "70/70 [==============================] - 0s 1ms/step - loss: 13.6289\n",
      "Epoch 33/100\n",
      "70/70 [==============================] - 0s 514us/step - loss: 13.6020\n",
      "Epoch 34/100\n",
      "70/70 [==============================] - 0s 1ms/step - loss: 13.5909\n",
      "Epoch 35/100\n",
      "70/70 [==============================] - 0s 400us/step - loss: 13.4233\n",
      "Epoch 36/100\n",
      "70/70 [==============================] - 0s 671us/step - loss: 13.3926\n",
      "Epoch 37/100\n",
      "70/70 [==============================] - 0s 586us/step - loss: 13.3091\n",
      "Epoch 38/100\n",
      "70/70 [==============================] - 0s 1ms/step - loss: 13.2516\n",
      "Epoch 39/100\n",
      "70/70 [==============================] - 0s 343us/step - loss: 13.2611\n",
      "Epoch 40/100\n",
      "70/70 [==============================] - 0s 1ms/step - loss: 13.1202\n",
      "Epoch 41/100\n",
      "70/70 [==============================] - 0s 329us/step - loss: 13.0578\n",
      "Epoch 42/100\n",
      "70/70 [==============================] - 0s 1ms/step - loss: 12.9963\n",
      "Epoch 43/100\n",
      "70/70 [==============================] - 0s 429us/step - loss: 12.9071\n",
      "Epoch 44/100\n",
      "70/70 [==============================] - 0s 443us/step - loss: 12.8596\n",
      "Epoch 45/100\n",
      "70/70 [==============================] - 0s 757us/step - loss: 12.8288\n",
      "Epoch 46/100\n",
      "70/70 [==============================] - 0s 400us/step - loss: 12.7387\n",
      "Epoch 47/100\n",
      "70/70 [==============================] - 0s 1ms/step - loss: 12.6908\n",
      "Epoch 48/100\n",
      "70/70 [==============================] - 0s 429us/step - loss: 12.6296\n",
      "Epoch 49/100\n",
      "70/70 [==============================] - 0s 1ms/step - loss: 12.5298\n",
      "Epoch 50/100\n",
      "70/70 [==============================] - 0s 400us/step - loss: 12.4633\n",
      "Epoch 51/100\n",
      "70/70 [==============================] - 0s 714us/step - loss: 12.4144\n",
      "Epoch 52/100\n",
      "70/70 [==============================] - 0s 500us/step - loss: 12.3873\n",
      "Epoch 53/100\n",
      "70/70 [==============================] - 0s 314us/step - loss: 12.3621\n",
      "Epoch 54/100\n",
      "70/70 [==============================] - 0s 436us/step - loss: 12.2615\n",
      "Epoch 55/100\n",
      "70/70 [==============================] - 0s 414us/step - loss: 12.1833\n",
      "Epoch 56/100\n",
      "70/70 [==============================] - 0s 2ms/step - loss: 12.1026\n",
      "Epoch 57/100\n",
      "70/70 [==============================] - 0s 600us/step - loss: 12.1373\n",
      "Epoch 58/100\n",
      "70/70 [==============================] - 0s 457us/step - loss: 12.0470\n",
      "Epoch 59/100\n",
      "70/70 [==============================] - 0s 429us/step - loss: 11.9589\n",
      "Epoch 60/100\n",
      "70/70 [==============================] - 0s 757us/step - loss: 11.9554\n",
      "Epoch 61/100\n",
      "70/70 [==============================] - 0s 343us/step - loss: 11.8458\n",
      "Epoch 62/100\n",
      "70/70 [==============================] - 0s 672us/step - loss: 11.8065\n",
      "Epoch 63/100\n",
      "70/70 [==============================] - 0s 472us/step - loss: 11.7369\n",
      "Epoch 64/100\n",
      "70/70 [==============================] - 0s 729us/step - loss: 11.6804\n",
      "Epoch 65/100\n",
      "70/70 [==============================] - 0s 329us/step - loss: 11.6326\n",
      "Epoch 66/100\n",
      "70/70 [==============================] - 0s 1ms/step - loss: 11.5795\n",
      "Epoch 67/100\n",
      "70/70 [==============================] - 0s 429us/step - loss: 11.5299\n",
      "Epoch 68/100\n",
      "70/70 [==============================] - 0s 843us/step - loss: 11.4801\n",
      "Epoch 69/100\n",
      "70/70 [==============================] - 0s 372us/step - loss: 11.4278\n",
      "Epoch 70/100\n",
      "70/70 [==============================] - 0s 586us/step - loss: 11.3769\n",
      "Epoch 71/100\n",
      "70/70 [==============================] - 0s 371us/step - loss: 11.2954\n",
      "Epoch 72/100\n",
      "70/70 [==============================] - 0s 372us/step - loss: 11.2293\n",
      "Epoch 73/100\n",
      "70/70 [==============================] - 0s 372us/step - loss: 11.1714\n",
      "Epoch 74/100\n",
      "70/70 [==============================] - 0s 514us/step - loss: 11.1396\n",
      "Epoch 75/100\n",
      "70/70 [==============================] - 0s 429us/step - loss: 11.0260\n",
      "Epoch 76/100\n",
      "70/70 [==============================] - 0s 429us/step - loss: 11.0110\n",
      "Epoch 77/100\n",
      "70/70 [==============================] - 0s 686us/step - loss: 10.8885\n",
      "Epoch 78/100\n",
      "70/70 [==============================] - 0s 343us/step - loss: 10.8538\n",
      "Epoch 79/100\n",
      "70/70 [==============================] - 0s 957us/step - loss: 10.8469\n",
      "Epoch 80/100\n",
      "70/70 [==============================] - 0s 357us/step - loss: 10.7626\n",
      "Epoch 81/100\n",
      "70/70 [==============================] - 0s 372us/step - loss: 10.7282\n",
      "Epoch 82/100\n",
      "70/70 [==============================] - 0s 386us/step - loss: 10.6561\n",
      "Epoch 83/100\n",
      "70/70 [==============================] - 0s 472us/step - loss: 10.6365\n",
      "Epoch 84/100\n",
      "70/70 [==============================] - 0s 886us/step - loss: 10.5505\n",
      "Epoch 85/100\n",
      "70/70 [==============================] - 0s 343us/step - loss: 10.5340\n",
      "Epoch 86/100\n",
      "70/70 [==============================] - 0s 729us/step - loss: 10.4902\n",
      "Epoch 87/100\n",
      "70/70 [==============================] - 0s 586us/step - loss: 10.4577\n",
      "Epoch 88/100\n",
      "70/70 [==============================] - 0s 714us/step - loss: 10.3986\n",
      "Epoch 89/100\n",
      "70/70 [==============================] - 0s 615us/step - loss: 10.3830\n",
      "Epoch 90/100\n",
      "70/70 [==============================] - 0s 343us/step - loss: 10.3510\n",
      "Epoch 91/100\n",
      "70/70 [==============================] - 0s 1ms/step - loss: 10.3371\n",
      "Epoch 92/100\n",
      "70/70 [==============================] - 0s 457us/step - loss: 10.3921\n",
      "Epoch 93/100\n",
      "70/70 [==============================] - 0s 543us/step - loss: 10.2598\n",
      "Epoch 94/100\n",
      "70/70 [==============================] - 0s 385us/step - loss: 10.1820\n",
      "Epoch 95/100\n",
      "70/70 [==============================] - 0s 486us/step - loss: 10.1509\n",
      "Epoch 96/100\n",
      "70/70 [==============================] - 0s 429us/step - loss: 10.1218\n",
      "Epoch 97/100\n",
      "70/70 [==============================] - 0s 372us/step - loss: 10.1242\n",
      "Epoch 98/100\n",
      "70/70 [==============================] - 0s 600us/step - loss: 10.0986\n",
      "Epoch 99/100\n"
     ]
    },
    {
     "name": "stdout",
     "output_type": "stream",
     "text": [
      "70/70 [==============================] - 0s 572us/step - loss: 10.0778\n",
      "Epoch 100/100\n",
      "70/70 [==============================] - 0s 600us/step - loss: 9.9840\n"
     ]
    },
    {
     "data": {
      "text/plain": [
       "<keras.callbacks.History at 0x1c994d618d0>"
      ]
     },
     "execution_count": 18,
     "metadata": {},
     "output_type": "execute_result"
    }
   ],
   "source": [
    "m.fit(x_train, y_train, epochs=100, batch_size=10)"
   ]
  },
  {
   "cell_type": "code",
   "execution_count": 19,
   "metadata": {},
   "outputs": [
    {
     "data": {
      "text/plain": [
       "array([[13., 15., 15., 12., 13.,  9., 17., 15.,  7., 14.,  8., 16., 11.,\n",
       "         8., 12.,  9., 14.,  8.,  9., 12., 11., 12., 11., 14., 11., 16.,\n",
       "        14.,  9., 17., 10.]], dtype=float32)"
      ]
     },
     "execution_count": 19,
     "metadata": {},
     "output_type": "execute_result"
    }
   ],
   "source": [
    "m.predict(x_test).round().T"
   ]
  },
  {
   "cell_type": "code",
   "execution_count": 20,
   "metadata": {},
   "outputs": [
    {
     "name": "stderr",
     "output_type": "stream",
     "text": [
      "C:\\Users\\luisa\\Anaconda3\\lib\\site-packages\\ipykernel_launcher.py:1: FutureWarning: Method .as_matrix will be removed in a future version. Use .values instead.\n",
      "  \"\"\"Entry point for launching an IPython kernel.\n"
     ]
    },
    {
     "data": {
      "text/plain": [
       "array([15., 11., 14., 13., 12., 15., 11., 14., 10., 10., 11., 13., 11.,\n",
       "       13., 15., 11., 16., 12., 10., 12., 12., 14., 15., 12., 16., 12.,\n",
       "       14., 12., 13., 11.], dtype=float32)"
      ]
     },
     "execution_count": 20,
     "metadata": {},
     "output_type": "execute_result"
    }
   ],
   "source": [
    "y_test.as_matrix().astype(np.float32)"
   ]
  },
  {
   "cell_type": "code",
   "execution_count": 21,
   "metadata": {},
   "outputs": [
    {
     "name": "stdout",
     "output_type": "stream",
     "text": [
      "\r",
      "30/30 [==============================] - 0s 4ms/step\n"
     ]
    },
    {
     "data": {
      "text/plain": [
       "9.538208961486816"
      ]
     },
     "execution_count": 21,
     "metadata": {},
     "output_type": "execute_result"
    }
   ],
   "source": [
    "m.evaluate(x_test, y_test)"
   ]
  },
  {
   "cell_type": "markdown",
   "metadata": {},
   "source": [
    "## Whitening"
   ]
  },
  {
   "cell_type": "code",
   "execution_count": 22,
   "metadata": {},
   "outputs": [
    {
     "data": {
      "text/html": [
       "<div>\n",
       "<style scoped>\n",
       "    .dataframe tbody tr th:only-of-type {\n",
       "        vertical-align: middle;\n",
       "    }\n",
       "\n",
       "    .dataframe tbody tr th {\n",
       "        vertical-align: top;\n",
       "    }\n",
       "\n",
       "    .dataframe thead th {\n",
       "        text-align: right;\n",
       "    }\n",
       "</style>\n",
       "<table border=\"1\" class=\"dataframe\">\n",
       "  <thead>\n",
       "    <tr style=\"text-align: right;\">\n",
       "      <th></th>\n",
       "      <th>pureenc</th>\n",
       "      <th>age</th>\n",
       "      <th>weight</th>\n",
       "      <th>height</th>\n",
       "    </tr>\n",
       "  </thead>\n",
       "  <tbody>\n",
       "    <tr>\n",
       "      <th>0</th>\n",
       "      <td>-0.701616</td>\n",
       "      <td>1.765160</td>\n",
       "      <td>-0.551152</td>\n",
       "      <td>-1.141284</td>\n",
       "    </tr>\n",
       "    <tr>\n",
       "      <th>1</th>\n",
       "      <td>-0.202032</td>\n",
       "      <td>-1.437973</td>\n",
       "      <td>-0.150677</td>\n",
       "      <td>1.049429</td>\n",
       "    </tr>\n",
       "    <tr>\n",
       "      <th>2</th>\n",
       "      <td>0.801871</td>\n",
       "      <td>1.532853</td>\n",
       "      <td>-0.380795</td>\n",
       "      <td>0.961903</td>\n",
       "    </tr>\n",
       "    <tr>\n",
       "      <th>3</th>\n",
       "      <td>-0.698691</td>\n",
       "      <td>1.336150</td>\n",
       "      <td>-1.029340</td>\n",
       "      <td>0.859410</td>\n",
       "    </tr>\n",
       "    <tr>\n",
       "      <th>4</th>\n",
       "      <td>0.245091</td>\n",
       "      <td>0.707544</td>\n",
       "      <td>-0.475373</td>\n",
       "      <td>-1.028241</td>\n",
       "    </tr>\n",
       "    <tr>\n",
       "      <th>...</th>\n",
       "      <td>...</td>\n",
       "      <td>...</td>\n",
       "      <td>...</td>\n",
       "      <td>...</td>\n",
       "    </tr>\n",
       "    <tr>\n",
       "      <th>65</th>\n",
       "      <td>-1.233840</td>\n",
       "      <td>-0.885479</td>\n",
       "      <td>-0.712324</td>\n",
       "      <td>-1.050293</td>\n",
       "    </tr>\n",
       "    <tr>\n",
       "      <th>66</th>\n",
       "      <td>0.683933</td>\n",
       "      <td>0.716469</td>\n",
       "      <td>0.037989</td>\n",
       "      <td>-0.987098</td>\n",
       "    </tr>\n",
       "    <tr>\n",
       "      <th>67</th>\n",
       "      <td>0.808948</td>\n",
       "      <td>-0.293340</td>\n",
       "      <td>0.476200</td>\n",
       "      <td>-0.918218</td>\n",
       "    </tr>\n",
       "    <tr>\n",
       "      <th>68</th>\n",
       "      <td>0.127370</td>\n",
       "      <td>0.988369</td>\n",
       "      <td>-0.942207</td>\n",
       "      <td>0.930662</td>\n",
       "    </tr>\n",
       "    <tr>\n",
       "      <th>69</th>\n",
       "      <td>-0.763230</td>\n",
       "      <td>-1.526576</td>\n",
       "      <td>-0.678869</td>\n",
       "      <td>-0.988605</td>\n",
       "    </tr>\n",
       "  </tbody>\n",
       "</table>\n",
       "<p>70 rows × 4 columns</p>\n",
       "</div>"
      ],
      "text/plain": [
       "     pureenc       age    weight    height\n",
       "0  -0.701616  1.765160 -0.551152 -1.141284\n",
       "1  -0.202032 -1.437973 -0.150677  1.049429\n",
       "2   0.801871  1.532853 -0.380795  0.961903\n",
       "3  -0.698691  1.336150 -1.029340  0.859410\n",
       "4   0.245091  0.707544 -0.475373 -1.028241\n",
       "..       ...       ...       ...       ...\n",
       "65 -1.233840 -0.885479 -0.712324 -1.050293\n",
       "66  0.683933  0.716469  0.037989 -0.987098\n",
       "67  0.808948 -0.293340  0.476200 -0.918218\n",
       "68  0.127370  0.988369 -0.942207  0.930662\n",
       "69 -0.763230 -1.526576 -0.678869 -0.988605\n",
       "\n",
       "[70 rows x 4 columns]"
      ]
     },
     "execution_count": 22,
     "metadata": {},
     "output_type": "execute_result"
    }
   ],
   "source": [
    "pca = dec.PCA(n_components=4, whiten=True)\n",
    "pca.fit(x_train)\n",
    "x_train_white = pd.DataFrame(pca.transform(x_train), columns=x.columns)\n",
    "x_train_white"
   ]
  },
  {
   "cell_type": "code",
   "execution_count": 23,
   "metadata": {},
   "outputs": [],
   "source": [
    "m = kr.models.Sequential()\n",
    "\n",
    "m.add(kr.layers.Dense(100, input_dim=4, activation=\"tanh\"))\n",
    "m.add(kr.layers.Dense(1, activation=\"linear\"))\n",
    "\n",
    "m.compile(loss=\"mean_squared_error\", optimizer=\"adam\")"
   ]
  },
  {
   "cell_type": "code",
   "execution_count": 24,
   "metadata": {},
   "outputs": [
    {
     "name": "stdout",
     "output_type": "stream",
     "text": [
      "Epoch 1/100\n",
      "70/70 [==============================] - 3s 45ms/step - loss: 152.7309\n",
      "Epoch 2/100\n",
      "70/70 [==============================] - 0s 686us/step - loss: 128.4842\n",
      "Epoch 3/100\n",
      "70/70 [==============================] - 0s 686us/step - loss: 106.7902\n",
      "Epoch 4/100\n",
      "70/70 [==============================] - 0s 357us/step - loss: 87.4128\n",
      "Epoch 5/100\n",
      "70/70 [==============================] - 0s 300us/step - loss: 70.7860\n",
      "Epoch 6/100\n",
      "70/70 [==============================] - 0s 772us/step - loss: 56.5803\n",
      "Epoch 7/100\n",
      "70/70 [==============================] - 0s 343us/step - loss: 44.2182\n",
      "Epoch 8/100\n",
      "70/70 [==============================] - 0s 414us/step - loss: 34.0798\n",
      "Epoch 9/100\n",
      "70/70 [==============================] - 0s 1ms/step - loss: 25.3606\n",
      "Epoch 10/100\n",
      "70/70 [==============================] - ETA: 0s - loss: 29.25 - 0s 514us/step - loss: 18.8363\n",
      "Epoch 11/100\n",
      "70/70 [==============================] - 0s 2ms/step - loss: 14.7248\n",
      "Epoch 12/100\n",
      "70/70 [==============================] - 0s 586us/step - loss: 11.6744\n",
      "Epoch 13/100\n",
      "70/70 [==============================] - 0s 1ms/step - loss: 10.1695\n",
      "Epoch 14/100\n",
      "70/70 [==============================] - 0s 472us/step - loss: 9.2738\n",
      "Epoch 15/100\n",
      "70/70 [==============================] - 0s 757us/step - loss: 8.7360\n",
      "Epoch 16/100\n",
      "70/70 [==============================] - 0s 400us/step - loss: 8.2029\n",
      "Epoch 17/100\n",
      "70/70 [==============================] - 0s 1ms/step - loss: 7.7471\n",
      "Epoch 18/100\n",
      "70/70 [==============================] - 0s 686us/step - loss: 7.4358\n",
      "Epoch 19/100\n",
      "70/70 [==============================] - 0s 2ms/step - loss: 7.0990\n",
      "Epoch 20/100\n",
      "70/70 [==============================] - 0s 486us/step - loss: 6.7192\n",
      "Epoch 21/100\n",
      "70/70 [==============================] - 0s 557us/step - loss: 6.3704\n",
      "Epoch 22/100\n",
      "70/70 [==============================] - 0s 429us/step - loss: 6.1020\n",
      "Epoch 23/100\n",
      "70/70 [==============================] - 0s 429us/step - loss: 5.8224\n",
      "Epoch 24/100\n",
      "70/70 [==============================] - 0s 1ms/step - loss: 5.5688\n",
      "Epoch 25/100\n",
      "70/70 [==============================] - 0s 386us/step - loss: 5.3559\n",
      "Epoch 26/100\n",
      "70/70 [==============================] - 0s 1ms/step - loss: 5.2131\n",
      "Epoch 27/100\n",
      "70/70 [==============================] - 0s 700us/step - loss: 5.0289\n",
      "Epoch 28/100\n",
      "70/70 [==============================] - 0s 1ms/step - loss: 4.8893\n",
      "Epoch 29/100\n",
      "70/70 [==============================] - 0s 500us/step - loss: 4.7172\n",
      "Epoch 30/100\n",
      "70/70 [==============================] - 0s 2ms/step - loss: 4.5651\n",
      "Epoch 31/100\n",
      "70/70 [==============================] - 0s 357us/step - loss: 4.4046\n",
      "Epoch 32/100\n",
      "70/70 [==============================] - 0s 1ms/step - loss: 4.2529\n",
      "Epoch 33/100\n",
      "70/70 [==============================] - 0s 386us/step - loss: 4.1108\n",
      "Epoch 34/100\n",
      "70/70 [==============================] - 0s 829us/step - loss: 3.9941\n",
      "Epoch 35/100\n",
      "70/70 [==============================] - 0s 329us/step - loss: 3.8398\n",
      "Epoch 36/100\n",
      "70/70 [==============================] - 0s 500us/step - loss: 3.7301\n",
      "Epoch 37/100\n",
      "70/70 [==============================] - 0s 800us/step - loss: 3.5873\n",
      "Epoch 38/100\n",
      "70/70 [==============================] - 0s 372us/step - loss: 3.4693\n",
      "Epoch 39/100\n",
      "70/70 [==============================] - 0s 1ms/step - loss: 3.3574\n",
      "Epoch 40/100\n",
      "70/70 [==============================] - 0s 329us/step - loss: 3.2771\n",
      "Epoch 41/100\n",
      "70/70 [==============================] - 0s 1ms/step - loss: 3.1371\n",
      "Epoch 42/100\n",
      "70/70 [==============================] - 0s 357us/step - loss: 3.0305\n",
      "Epoch 43/100\n",
      "70/70 [==============================] - 0s 357us/step - loss: 2.9347\n",
      "Epoch 44/100\n",
      "70/70 [==============================] - 0s 1ms/step - loss: 2.8251\n",
      "Epoch 45/100\n",
      "70/70 [==============================] - 0s 443us/step - loss: 2.7178\n",
      "Epoch 46/100\n",
      "70/70 [==============================] - 0s 815us/step - loss: 2.6636\n",
      "Epoch 47/100\n",
      "70/70 [==============================] - 0s 371us/step - loss: 2.5665\n",
      "Epoch 48/100\n",
      "70/70 [==============================] - 0s 1ms/step - loss: 2.4971\n",
      "Epoch 49/100\n",
      "70/70 [==============================] - 0s 415us/step - loss: 2.4456\n",
      "Epoch 50/100\n",
      "70/70 [==============================] - 0s 1ms/step - loss: 2.3863\n",
      "Epoch 51/100\n",
      "70/70 [==============================] - 0s 586us/step - loss: 2.3269\n",
      "Epoch 52/100\n",
      "70/70 [==============================] - ETA: 0s - loss: 5.133 - 0s 414us/step - loss: 2.2751\n",
      "Epoch 53/100\n",
      "70/70 [==============================] - 0s 1ms/step - loss: 2.2327\n",
      "Epoch 54/100\n",
      "70/70 [==============================] - 0s 357us/step - loss: 2.1829\n",
      "Epoch 55/100\n",
      "70/70 [==============================] - 0s 2ms/step - loss: 2.1362\n",
      "Epoch 56/100\n",
      "70/70 [==============================] - 0s 514us/step - loss: 2.0905\n",
      "Epoch 57/100\n",
      "70/70 [==============================] - 0s 1ms/step - loss: 2.0600\n",
      "Epoch 58/100\n",
      "70/70 [==============================] - 0s 415us/step - loss: 2.0146\n",
      "Epoch 59/100\n",
      "70/70 [==============================] - 0s 1ms/step - loss: 1.9746\n",
      "Epoch 60/100\n",
      "70/70 [==============================] - 0s 443us/step - loss: 1.9402\n",
      "Epoch 61/100\n",
      "70/70 [==============================] - 0s 1ms/step - loss: 1.9033\n",
      "Epoch 62/100\n",
      "70/70 [==============================] - 0s 386us/step - loss: 1.8561\n",
      "Epoch 63/100\n",
      "70/70 [==============================] - 0s 486us/step - loss: 1.8510\n",
      "Epoch 64/100\n",
      "70/70 [==============================] - 0s 457us/step - loss: 1.7949\n",
      "Epoch 65/100\n",
      "70/70 [==============================] - ETA: 0s - loss: 2.508 - 0s 329us/step - loss: 1.7615\n",
      "Epoch 66/100\n",
      "70/70 [==============================] - 0s 514us/step - loss: 1.7224\n",
      "Epoch 67/100\n",
      "70/70 [==============================] - 0s 557us/step - loss: 1.7013\n",
      "Epoch 68/100\n",
      "70/70 [==============================] - 0s 500us/step - loss: 1.6470\n",
      "Epoch 69/100\n",
      "70/70 [==============================] - 0s 972us/step - loss: 1.6281\n",
      "Epoch 70/100\n",
      "70/70 [==============================] - 0s 543us/step - loss: 1.6007\n",
      "Epoch 71/100\n",
      "70/70 [==============================] - 0s 629us/step - loss: 1.5699\n",
      "Epoch 72/100\n",
      "70/70 [==============================] - 0s 500us/step - loss: 1.5517\n",
      "Epoch 73/100\n",
      "70/70 [==============================] - 0s 929us/step - loss: 1.5299\n",
      "Epoch 74/100\n",
      "70/70 [==============================] - 0s 386us/step - loss: 1.4991\n",
      "Epoch 75/100\n",
      "70/70 [==============================] - ETA: 0s - loss: 2.304 - 0s 1ms/step - loss: 1.4793\n",
      "Epoch 76/100\n",
      "70/70 [==============================] - 0s 443us/step - loss: 1.4683\n",
      "Epoch 77/100\n",
      "70/70 [==============================] - 0s 715us/step - loss: 1.4332\n",
      "Epoch 78/100\n",
      "70/70 [==============================] - 0s 400us/step - loss: 1.4169\n",
      "Epoch 79/100\n",
      "70/70 [==============================] - 0s 714us/step - loss: 1.4102\n",
      "Epoch 80/100\n",
      "70/70 [==============================] - 0s 372us/step - loss: 1.3726\n",
      "Epoch 81/100\n",
      "70/70 [==============================] - 0s 286us/step - loss: 1.3547\n",
      "Epoch 82/100\n",
      "70/70 [==============================] - 0s 1ms/step - loss: 1.3503\n",
      "Epoch 83/100\n",
      "70/70 [==============================] - 0s 657us/step - loss: 1.3203\n",
      "Epoch 84/100\n",
      "70/70 [==============================] - 0s 943us/step - loss: 1.3136\n",
      "Epoch 85/100\n",
      "70/70 [==============================] - 0s 386us/step - loss: 1.2885\n",
      "Epoch 86/100\n",
      "70/70 [==============================] - 0s 400us/step - loss: 1.2862\n",
      "Epoch 87/100\n",
      "70/70 [==============================] - 0s 1ms/step - loss: 1.2595\n",
      "Epoch 88/100\n",
      "70/70 [==============================] - 0s 457us/step - loss: 1.2517\n",
      "Epoch 89/100\n",
      "70/70 [==============================] - 0s 1ms/step - loss: 1.2317\n",
      "Epoch 90/100\n",
      "70/70 [==============================] - 0s 372us/step - loss: 1.2381\n",
      "Epoch 91/100\n",
      "70/70 [==============================] - 0s 686us/step - loss: 1.2155\n",
      "Epoch 92/100\n",
      "70/70 [==============================] - 0s 486us/step - loss: 1.1981\n",
      "Epoch 93/100\n",
      "70/70 [==============================] - 0s 472us/step - loss: 1.1894\n",
      "Epoch 94/100\n",
      "70/70 [==============================] - 0s 1ms/step - loss: 1.1853\n",
      "Epoch 95/100\n",
      "70/70 [==============================] - 0s 486us/step - loss: 1.1675\n",
      "Epoch 96/100\n",
      "70/70 [==============================] - 0s 1ms/step - loss: 1.1586\n",
      "Epoch 97/100\n",
      "70/70 [==============================] - 0s 414us/step - loss: 1.1425\n",
      "Epoch 98/100\n",
      "70/70 [==============================] - 0s 972us/step - loss: 1.1398\n",
      "Epoch 99/100\n"
     ]
    },
    {
     "name": "stdout",
     "output_type": "stream",
     "text": [
      "70/70 [==============================] - 0s 486us/step - loss: 1.1359\n",
      "Epoch 100/100\n",
      "70/70 [==============================] - 0s 1ms/step - loss: 1.1153\n"
     ]
    },
    {
     "data": {
      "text/plain": [
       "<keras.callbacks.History at 0x1c994d61978>"
      ]
     },
     "execution_count": 24,
     "metadata": {},
     "output_type": "execute_result"
    }
   ],
   "source": [
    "m.fit(x_train, y_train, epochs=100, batch_size=10)"
   ]
  },
  {
   "cell_type": "code",
   "execution_count": 25,
   "metadata": {},
   "outputs": [
    {
     "data": {
      "text/plain": [
       "array([[16., 12., 14., 12., 12., 13., 13., 15., 11., 10., 10., 14., 11.,\n",
       "        11., 15., 10., 16., 11., 10., 12., 11., 14., 15., 12., 15., 13.,\n",
       "        14., 10., 14., 10.]], dtype=float32)"
      ]
     },
     "execution_count": 25,
     "metadata": {},
     "output_type": "execute_result"
    }
   ],
   "source": [
    "m.predict(x_test).round().T"
   ]
  },
  {
   "cell_type": "code",
   "execution_count": 26,
   "metadata": {},
   "outputs": [
    {
     "name": "stderr",
     "output_type": "stream",
     "text": [
      "C:\\Users\\luisa\\Anaconda3\\lib\\site-packages\\ipykernel_launcher.py:1: FutureWarning: Method .as_matrix will be removed in a future version. Use .values instead.\n",
      "  \"\"\"Entry point for launching an IPython kernel.\n"
     ]
    },
    {
     "data": {
      "text/plain": [
       "array([15., 11., 14., 13., 12., 15., 11., 14., 10., 10., 11., 13., 11.,\n",
       "       13., 15., 11., 16., 12., 10., 12., 12., 14., 15., 12., 16., 12.,\n",
       "       14., 12., 13., 11.], dtype=float32)"
      ]
     },
     "execution_count": 26,
     "metadata": {},
     "output_type": "execute_result"
    }
   ],
   "source": [
    "y_test.as_matrix().astype(np.float32)"
   ]
  },
  {
   "cell_type": "code",
   "execution_count": 27,
   "metadata": {},
   "outputs": [
    {
     "name": "stdout",
     "output_type": "stream",
     "text": [
      "\r",
      "30/30 [==============================] - 0s 5ms/step\n"
     ]
    },
    {
     "data": {
      "text/plain": [
       "0.9439299702644348"
      ]
     },
     "execution_count": 27,
     "metadata": {},
     "output_type": "execute_result"
    }
   ],
   "source": [
    "m.evaluate(x_test, y_test)"
   ]
  },
  {
   "cell_type": "markdown",
   "metadata": {},
   "source": [
    "# End"
   ]
  }
 ],
 "metadata": {
  "kernelspec": {
   "display_name": "Python 3",
   "language": "python",
   "name": "python3"
  },
  "language_info": {
   "codemirror_mode": {
    "name": "ipython",
    "version": 3
   },
   "file_extension": ".py",
   "mimetype": "text/x-python",
   "name": "python",
   "nbconvert_exporter": "python",
   "pygments_lexer": "ipython3",
   "version": "3.6.5"
  }
 },
 "nbformat": 4,
 "nbformat_minor": 2
}

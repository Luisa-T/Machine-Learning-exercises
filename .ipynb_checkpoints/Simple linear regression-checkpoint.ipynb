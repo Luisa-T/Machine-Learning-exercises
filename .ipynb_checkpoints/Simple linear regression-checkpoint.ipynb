{
 "cells": [
  {
   "cell_type": "markdown",
   "metadata": {},
   "source": [
    "# Simple Linear Regression with NumPy"
   ]
  },
  {
   "cell_type": "code",
   "execution_count": 4,
   "metadata": {},
   "outputs": [],
   "source": [
    "# import matplotlib\n",
    "import matplotlib.pyplot as plt"
   ]
  },
  {
   "cell_type": "code",
   "execution_count": 5,
   "metadata": {},
   "outputs": [
    {
     "data": {
      "image/png": "[encoded data removed]",
      "text/plain": [
       "<Figure size 432x288 with 1 Axes>"
      ]
     },
     "metadata": {},
     "output_type": "display_data"
    }
   ],
   "source": [
    "# Draw some axes\n",
    "plt.plot([-1, 10], [0, 0], 'k-')\n",
    "plt.plot([0,0], [-1, 10], 'k-')\n",
    "\n",
    "# plotting the red and blue lines\n",
    "plt.plot([1, 1], [-1, 3], 'b:')\n",
    "plt.plot([-1, 1], [3, 3], 'r:')\n",
    "\n",
    "#plotting the tw points\n",
    "plt.plot([1, 2], [3, 5], 'ko')\n",
    "#join the points with a green line\n",
    "plt.plot([-1, 10], [-1, 21], 'g-')\n",
    "\n",
    "# set some reasonable plot limits\n",
    "plt.xlim([-1, 10])\n",
    "plt.ylim([-1, 10])\n",
    "\n",
    "# display the plot\n",
    "plt.show()"
   ]
  },
  {
   "cell_type": "markdown",
   "metadata": {},
   "source": [
    "Simple linear regression is about the opposite problem which is that you have some points and are looking for the equation. It is easy if the points are perfectl lined up already, but usually there is some noise. The data may still look as if it is roughly linear but isn't exactly."
   ]
  },
  {
   "cell_type": "markdown",
   "metadata": {},
   "source": [
    "Suppose that you are trying to weigh your suitcase to avoid paying the airline fee but you only have a spring and some gym-style weigths of masses, 7, 14, and 21 kg. You attach the spring weight to the wall hook and mark where the bottom of the spring is. Then ou hang the 7 kg weight on the end and mark where the bottom of the spring is. Repeat with 14 and 21 kg. Place the case on the spring, and the spring hangs down halfway between the 7 and 14 kg mark. Is the case then over the 10 kg allowed by the airline?"
   ]
  },
  {
   "cell_type": "markdown",
   "metadata": {},
   "source": [
    "### Hypothesis\n",
    "***\n",
    "When you look at the marks on the wall, it seems that the 0, 7, 14, and 21 kg marks are evenly spaced. Does that means that the case weighs 10.5 kg? Is there a linear relationship between the distance the spring's hook is from its resting position, and the mass on the end of it?"
   ]
  },
  {
   "cell_type": "markdown",
   "metadata": {},
   "source": [
    "### Experiment\n",
    "***\n",
    "You decide to buy some more weights, 1, 2, 3 all the way up to 20 kg. You place them each in turn on the spring and measure the distance the spring moves from the resting position. You note down the data in a table and then plot it."
   ]
  },
  {
   "cell_type": "code",
   "execution_count": null,
   "metadata": {},
   "outputs": [],
   "source": []
  }
 ],
 "metadata": {
  "kernelspec": {
   "display_name": "Python 3",
   "language": "python",
   "name": "python3"
  },
  "language_info": {
   "codemirror_mode": {
    "name": "ipython",
    "version": 3
   },
   "file_extension": ".py",
   "mimetype": "text/x-python",
   "name": "python",
   "nbconvert_exporter": "python",
   "pygments_lexer": "ipython3",
   "version": "3.6.5"
  }
 },
 "nbformat": 4,
 "nbformat_minor": 2
}
